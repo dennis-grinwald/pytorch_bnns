{
 "cells": [
  {
   "cell_type": "code",
   "execution_count": null,
   "metadata": {},
   "outputs": [
    {
     "name": "stdout",
     "output_type": "stream",
     "text": [
      "Collecting torch\n",
      "  Downloading https://files.pythonhosted.org/packages/77/0c/c70f85961ad643801e82276087c8d816ae9b3d9119645313232b73840579/torch-1.5.1-cp35-cp35m-manylinux1_x86_64.whl (753.2MB)\n",
      "\u001b[K    99% |████████████████████████████████| 753.2MB 49.0MB/s eta 0:00:012   18% |██████                          | 142.2MB 65.3MB/s eta 0:00:10    21% |██████▉                         | 161.8MB 50.1MB/s eta 0:00:12    40% |████████████▉                   | 303.1MB 53.3MB/s eta 0:00:09    44% |██████████████▎                 | 335.1MB 49.0MB/s eta 0:00:09    51% |████████████████▋               | 391.1MB 40.3MB/s eta 0:00:09    81% |██████████████████████████      | 611.2MB 45.4MB/s eta 0:00:04    81% |██████████████████████████▏     | 614.9MB 47.3MB/s eta 0:00:03��███████████████████▊    | 651.7MB 46.7MB/s eta 0:00:03   89% |████████████████████████████▌   | 671.1MB 53.9MB/s eta 0:00:02   89% |████████████████████████████▊   | 675.5MB 48.4MB/s eta 0:00:02    90% |████████████████████████████▉   | 679.8MB 37.3MB/s eta 0:00:02.3MB 48.3MB/s eta 0:00:02.2MB 37.7MB/s eta 0:00:02.6MB 60.3MB/s eta 0:00:01███████▌ | 717.3MB 48.9MB/s eta 0:00:01███████▋ | 719.7MB 42.9MB/s eta 0:00:01███████▊ | 722.2MB 55.4MB/s eta 0:00:01███████▉ | 726.7MB 61.9MB/s eta 0:00:01████████ | 731.5MB 47.4MB/s eta 0:00:01�█████████████████▏| 733.9MB 58.7MB/s eta 0:00:01�█████████████████▎| 736.5MB 60.6MB/s eta 0:00:01�█████████████████▋| 743.7MB 60.3MB/s eta 0:00:01�█████████████████▊| 746.0MB 56.7MB/s eta 0:00:01�█████████████████▉| 748.5MB 45.4MB/s eta 0:00:01"
     ]
    }
   ],
   "source": [
    "!pip install torch"
   ]
  },
  {
   "cell_type": "code",
   "execution_count": null,
   "metadata": {
    "collapsed": true
   },
   "outputs": [],
   "source": [
    "import torch"
   ]
  },
  {
   "cell_type": "code",
   "execution_count": null,
   "metadata": {
    "collapsed": true
   },
   "outputs": [],
   "source": []
  }
 ],
 "metadata": {
  "kernelspec": {
   "display_name": "Python 3",
   "language": "python",
   "name": "python3"
  },
  "language_info": {
   "codemirror_mode": {
    "name": "ipython",
    "version": 3
   },
   "file_extension": ".py",
   "mimetype": "text/x-python",
   "name": "python",
   "nbconvert_exporter": "python",
   "pygments_lexer": "ipython3",
   "version": "3.5.3"
  }
 },
 "nbformat": 4,
 "nbformat_minor": 2
}
